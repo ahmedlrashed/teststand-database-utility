{
 "cells": [
  {
   "cell_type": "markdown",
   "metadata": {
    "tags": []
   },
   "source": [
    "# Purpose\n",
    "Extract data from default TestStand database using default Access NI schema. \n",
    "Data is converted to CSVs for import into another tool such as Minitab or analyzed in web app.\n",
    "\n",
    "One CSV file will be created for each Sequence File name that was called - \n",
    "* Numeric Data - data of steps with Numeric Limit Tests; column names step names and tolerances\n",
    "\n",
    "It is assumed that the entirety of the queried data has the same basic test structure - step names, tolerances,\n",
    "and step sequences order is not drastically changing. Changes to this will require normalization.\n",
    "\n",
    "# Process\n",
    "* Install requirements from requirements.txt (using a virtual environment is highly recommended)\n",
    "* User is prompted to enter path to database and optional search criteria - data range, user name\n",
    "* Execute all cells\n",
    "\n",
    "# Important Notes\n",
    "* If no pyodbc drivers are listed, then install the correct driver or use the same python bitness as already installed driver"
   ]
  },
  {
   "cell_type": "code",
   "execution_count": 4,
   "metadata": {},
   "outputs": [
    {
     "name": "stdout",
     "output_type": "stream",
     "text": [
      "---- Microsft Access Drivers ----\n",
      "Microsoft Access Driver (*.mdb, *.accdb)\n"
     ]
    }
   ],
   "source": [
    "import pyodbc\n",
    "import pandas as pd\n",
    "\n",
    "print(\"---- Microsft Access Drivers ----\")\n",
    "for x in [x for x in pyodbc.drivers() if x.startswith('Microsoft Access Driver')]:\n",
    "    print(x)"
   ]
  },
  {
   "cell_type": "code",
   "execution_count": 5,
   "metadata": {},
   "outputs": [],
   "source": [
    "# Get database file from user\n",
    "from tkinter import *\n",
    "from tkinter.ttk import *\n",
    "from tkinter.filedialog import askopenfilename\n",
    "from tkinter import simpledialog\n",
    "\n",
    "# we don't want a full GUI, so keep the root window from appearing\n",
    "Tk().withdraw()\n",
    "\n",
    "# show an \"Open\" dialog box and return the path to the selected file\n",
    "db_filename = askopenfilename(title=\"Select TestStand Database File to Open\", filetypes = ((\"MS Access\",\"*.mdb\"),(\"MS Access\",\"*.accdb\")))\n",
    "\n",
    "# The DRIVER curly brackets are doubled up to escape themselves\n",
    "# The DBQ curly brackets are NOT doubled up because they are placeholders\n",
    "con_string = ('DRIVER={{Microsoft Access Driver (*.mdb, *.accdb)}};'\n",
    "              'DBQ={};').format(db_filename)\n",
    "\n",
    "# Connect to database\n",
    "cnxn = pyodbc.connect(con_string)\n",
    "crsr = cnxn.cursor()"
   ]
  },
  {
   "cell_type": "code",
   "execution_count": 6,
   "metadata": {},
   "outputs": [],
   "source": [
    "# Get all desired test runs filtered by start-date and optional user-name\n",
    "\n",
    "start_date = simpledialog.askstring('OPTIONAL FILTER', 'Enter start-date filter with format\\n #YYYY-MM-DD HH:mm#\\n(leave blank to get all dates) ::')\n",
    "user_name = simpledialog.askstring('OPTIONAL FILTER', 'Enter user-name filter\\n(leave blank to get all users) ::')\n",
    "\n",
    "if start_date == \"\":\n",
    "    start_date = '#2022-11-11 00:00#'\n",
    "    \n",
    "sql_string = ('SELECT ID, STATION_ID, START_DATE_TIME, EXECUTION_TIME, UUT_SERIAL_NUMBER, UUT_STATUS, UUT_ERROR_MESSAGE ' \n",
    "              'FROM UUT_RESULT '\n",
    "              'WHERE START_DATE_TIME >= {}').format(start_date)\n",
    "\n",
    "if user_name:\n",
    "    sql_string += (\" AND USER_LOGIN_NAME = '{}'\").format(user_name)\n",
    "\n",
    "crsr.execute(sql_string)\n",
    "rows = crsr.fetchall()"
   ]
  },
  {
   "cell_type": "code",
   "execution_count": 7,
   "metadata": {},
   "outputs": [],
   "source": [
    "# For each seqeunce file, generate empty tables. \n",
    "# NOTE: Step_SeqCall does not have start-date-time so there will be minor inefficiency\n",
    "\n",
    "from pathlib import Path\n",
    "\n",
    "sql_string2 = \"\"\"\n",
    "SELECT STEP_SEQCALL.STEP_RESULT, STEP_SEQCALL.SEQUENCE_FILE_PATH \n",
    "FROM STEP_SEQCALL\n",
    "\"\"\"\n",
    "\n",
    "crsr.execute(sql_string2)\n",
    "seqs = crsr.fetchall()\n",
    "\n",
    "# Declaration of empty dictionary for dynamic output tables\n",
    "tbl_dict = {}\n",
    "\n",
    "# Declaration of empty sequence list\n",
    "seq_list = []\n",
    "\n",
    "# Create look-up table mapping x = Step_Parent to y = Sequence_Name as Tuple (x,y)\n",
    "for seq in seqs:\n",
    "    \n",
    "    # Update raw filepaths to final table names\n",
    "    seq[1] = 'Test Data ' + Path(seq[1]).stem\n",
    "    \n",
    "    # Create list containing each unique sequence in the .mdb file\n",
    "    while seq[1] not in seq_list:\n",
    "        seq_list.append(seq[1])\n",
    "    \n",
    "    # Assign list entries as keys with empty array as each entry's value (will populate in next section)\n",
    "    for seq_name in seq_list:\n",
    "        tbl_dict[f'{seq_name}'] = []"
   ]
  },
  {
   "cell_type": "code",
   "execution_count": 8,
   "metadata": {
    "tags": []
   },
   "outputs": [
    {
     "name": "stdout",
     "output_type": "stream",
     "text": [
      "---- Test Data generated ----\n"
     ]
    }
   ],
   "source": [
    "# For each test run, generate tables\n",
    "for row in rows:\n",
    "    \n",
    "    # Overall Test Metadata\n",
    "    data = {\n",
    "        'Test Start': row.START_DATE_TIME, 'Serial Number': row.UUT_SERIAL_NUMBER, \n",
    "        'Test ID': row.ID, 'Station ID': row.STATION_ID, 'Test Status': row.UUT_STATUS\n",
    "    }\n",
    "    \n",
    "    # Step Data\n",
    "    crsr.execute(f\"\"\"\n",
    "    SELECT  STEP_RESULT.ID, \n",
    "            STEP_RESULT.STEP_PARENT, \n",
    "            STEP_RESULT.STEP_NAME, \n",
    "            STEP_RESULT.STEP_TYPE, \n",
    "            STEP_RESULT.STATUS, \n",
    "            STEP_RESULT.ORDER_NUMBER,\n",
    "            PROP_RESULT.ID AS PROP_ID, \n",
    "            PROP_RESULT.TYPE_NAME, \n",
    "            PROP_RESULT.DATA, \n",
    "            PROP_RESULT.NAME,\n",
    "            PROP_NUMERICLIMIT.COMP_OPERATOR AS COP, \n",
    "            PROP_NUMERICLIMIT.HIGH_LIMIT AS HL, \n",
    "            PROP_NUMERICLIMIT.LOW_LIMIT AS LL, \n",
    "            PROP_NUMERICLIMIT.UNITS AS UNITS\n",
    "    FROM (STEP_RESULT LEFT JOIN PROP_RESULT ON STEP_RESULT.ID = PROP_RESULT.STEP_RESULT)\n",
    "         LEFT JOIN PROP_NUMERICLIMIT ON PROP_RESULT.ID = PROP_NUMERICLIMIT.PROP_RESULT\n",
    "    WHERE STEP_RESULT.UUT_RESULT = {row.ID}\n",
    "    ORDER BY STEP_RESULT.ORDER_NUMBER ASC\n",
    "    \"\"\")\n",
    "    \n",
    "    step_rows = crsr.fetchall()\n",
    "    \n",
    "    for step_row in step_rows:\n",
    "        \n",
    "        # Convert data to Python types\n",
    "        val = None\n",
    "        if step_row.TYPE_NAME == \"Boolean\":\n",
    "            val = bool(step_row.DATA)\n",
    "\n",
    "        elif step_row.TYPE_NAME == \"Number\" or step_row.TYPE_NAME == \"NumericLimitTest\":\n",
    "            val = float(step_row.DATA)\n",
    "\n",
    "        # Extract desired data\n",
    "        if (\n",
    "                 step_row.STEP_TYPE == \"NumericLimitTest\" and \n",
    "                 step_row.STATUS != \"Skipped\" and\n",
    "                 val is not None\n",
    "            ):\n",
    "            # Construct limit info string based on comparison type\n",
    "            limit_info = \"\"\n",
    "            if step_row.COP == \"LT\":\n",
    "                #limit_info = f\"< {step_row.LL:.4F}\"\n",
    "                limit_info = f\"< {step_row.LL}\"\n",
    "            elif step_row.COP == \"LE\":\n",
    "                limit_info = f\"<= {step_row.LL}\"\n",
    "            elif step_row.COP == \"GT\":\n",
    "                limit_info = f\"> {step_row.LL}\"\n",
    "            elif step_row.COP == \"GE\":\n",
    "                limit_info = f\">= {step_row.LL}\"\n",
    "            elif step_row.COP == \"GTLT\":\n",
    "                limit_info = f\"{step_row.LL} < x < {step_row.HL}\"\n",
    "            elif step_row.COP == \"GELE\":\n",
    "                limit_info = f\"{step_row.LL} <= x <= {step_row.HL}\"\n",
    "            elif step_row.COP == \"EQT\":\n",
    "                limit_info = f\"{step_row.LL} <= x <= {step_row.HL}\"\n",
    "            elif step_row.COP == \"EQ\":\n",
    "                limit_info = f\" == {step_row.LL}\"\n",
    "            else:\n",
    "                break\n",
    "\n",
    "            # When looping, different step runs will have repeated step name.\n",
    "            # Need to append next numeric suffix to separate runs\n",
    "            repeat_index = 0\n",
    "            key_name = f\"{step_row.STEP_NAME} ({step_row.UNITS}) {limit_info} [{repeat_index}]\"\n",
    "            \n",
    "            while key_name in data:\n",
    "                repeat_index += 1\n",
    "                key_name = f\"{step_row.STEP_NAME} ({step_row.UNITS}) {limit_info} [{repeat_index}]\"\n",
    "\n",
    "            # Finally insert data value only keeping up to 3 decimal places\n",
    "            data[key_name] = round(val,3)\n",
    "            \n",
    "    # Convert STEP_PARENT index to the corresponding sequence file dictionary value\n",
    "    dict_val = next((y for x, y in seqs if x == step_row.STEP_PARENT), None)\n",
    "    \n",
    "    # Append data to the appropriate output table according to dictionary value\n",
    "    tbl_dict[f'{dict_val}'].append(data)\n",
    "    \n",
    "print(\"---- Test Data generated ----\")"
   ]
  },
  {
   "cell_type": "code",
   "execution_count": 9,
   "metadata": {},
   "outputs": [
    {
     "name": "stdout",
     "output_type": "stream",
     "text": [
      "---- Test Data OMS exported ----\n",
      "---- Test Data VDM exported ----\n",
      "---- Test Data PMU exported ----\n"
     ]
    }
   ],
   "source": [
    "# Write out tables to CSVs\n",
    "\n",
    "for seq_name in seq_list:\n",
    "    pd.DataFrame.from_records(tbl_dict[f'{seq_name}']).to_csv(seq_name +'.csv', index=False)\n",
    "    print(f\"---- {seq_name} exported ----\")"
   ]
  },
  {
   "cell_type": "code",
   "execution_count": null,
   "metadata": {},
   "outputs": [],
   "source": []
  }
 ],
 "metadata": {
  "interpreter": {
   "hash": "08ecac0317586d30ecccb2247b67ae9531694fab2d176a7ec2d72a0a474b371b"
  },
  "kernelspec": {
   "display_name": "Python 3 (ipykernel)",
   "language": "python",
   "name": "python3"
  },
  "language_info": {
   "codemirror_mode": {
    "name": "ipython",
    "version": 3
   },
   "file_extension": ".py",
   "mimetype": "text/x-python",
   "name": "python",
   "nbconvert_exporter": "python",
   "pygments_lexer": "ipython3",
   "version": "3.9.13"
  },
  "metadata": {
   "interpreter": {
    "hash": "b8488343e509b415c98a857491a9b4c90395f9a45992da0bb6102fdf120e22ce"
   }
  }
 },
 "nbformat": 4,
 "nbformat_minor": 4
}
